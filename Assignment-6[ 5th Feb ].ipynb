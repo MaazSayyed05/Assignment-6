{
 "cells": [
  {
   "cell_type": "code",
   "execution_count": 97,
   "id": "c7e37221-688d-43b2-af15-0e70695199fc",
   "metadata": {},
   "outputs": [],
   "source": [
    "# Q1\n",
    "class test:\n",
    "    def method(self):\n",
    "        print(\"This is a method in test class.\")"
   ]
  },
  {
   "cell_type": "code",
   "execution_count": 101,
   "id": "d55c63b4-3b28-4dbf-8ee1-b05fbf55d77c",
   "metadata": {},
   "outputs": [],
   "source": [
    "t1 = test()"
   ]
  },
  {
   "cell_type": "code",
   "execution_count": 103,
   "id": "5cbf9011-0d14-4ce9-9eb5-d09f3efd7409",
   "metadata": {},
   "outputs": [
    {
     "name": "stdout",
     "output_type": "stream",
     "text": [
      "This is a method in test class.\n"
     ]
    }
   ],
   "source": [
    "t1.method()"
   ]
  },
  {
   "cell_type": "code",
   "execution_count": 20,
   "id": "ebe60119-cea7-4891-9dae-4fc72eb10a1c",
   "metadata": {},
   "outputs": [],
   "source": [
    "# Q1\n",
    "# class--> A class is a user-defined blueprint or prototype from which objects are created. In above example, test is class and if function is defined in class it is called as method.\n",
    "# object--> An Object is an instance of a Class. A class is like a blueprint while an instance is a copy of the class with actual values. In above example, t1 is object of class test."
   ]
  },
  {
   "cell_type": "code",
   "execution_count": 22,
   "id": "c975d556-c6c1-483a-9ca5-0f4875cb6841",
   "metadata": {},
   "outputs": [],
   "source": [
    "# Q2\n",
    "# Four pillars of oops are: \n",
    "# 1. Polymorphism\n",
    "# 2. Inheritance\n",
    "# 3. Abstraction\n",
    "# 4. Encapsulation"
   ]
  },
  {
   "cell_type": "code",
   "execution_count": 39,
   "id": "b33046ae-bf4f-4e55-9df2-d09d96e59229",
   "metadata": {},
   "outputs": [],
   "source": [
    "# Q3\n",
    "class test_2:\n",
    "    def __init__(self, name, email_id):\n",
    "        self.name = name\n",
    "        self.email_id = email_id\n",
    "    \n",
    "    def show_details(self):\n",
    "        print(\"Name: \",self.name,\"\\nE-mail Id: \",self.email_id)\n",
    "        \n",
    "    "
   ]
  },
  {
   "cell_type": "code",
   "execution_count": 40,
   "id": "93cd049a-775e-4f8f-b7bf-bd3a8b2638fa",
   "metadata": {},
   "outputs": [],
   "source": [
    "t2 = test_2(\"Maaz Sayyed\",\"maazsayyed05@gmail.com\")"
   ]
  },
  {
   "cell_type": "code",
   "execution_count": 41,
   "id": "0606d382-8513-4361-aa44-1f0138443fbf",
   "metadata": {},
   "outputs": [
    {
     "name": "stdout",
     "output_type": "stream",
     "text": [
      "Name:  Maaz Sayyed \n",
      "E-mail Id:  maazsayyed05@gmail.com\n"
     ]
    }
   ],
   "source": [
    "t2.show_details()"
   ]
  },
  {
   "cell_type": "code",
   "execution_count": 42,
   "id": "dc943007-8efe-4864-8f8c-832684d8929d",
   "metadata": {},
   "outputs": [],
   "source": [
    "# Q3\n",
    "# --> __init__() function is used to pass data to class from user. It is like a constructor in Java programming."
   ]
  },
  {
   "cell_type": "code",
   "execution_count": 43,
   "id": "08d96a94-fdb6-475a-8d5f-4c1705d3a4c2",
   "metadata": {},
   "outputs": [],
   "source": [
    "# Q4\n",
    "# --> The self parameter is a reference to the current instance of the class, and is used to access variables that belongs to the class."
   ]
  },
  {
   "cell_type": "code",
   "execution_count": 85,
   "id": "b7b98311-c758-4583-b4d7-c6324f401269",
   "metadata": {},
   "outputs": [],
   "source": [
    "# Q5\n",
    "# --> Inheritance: Inheritance allows us to define a class that inherits all the methods and properties from another class. \n",
    "#     Parent class is the class being inherited from, also called base class. Child class is the class that inherits from another class, also called derived class."
   ]
  },
  {
   "cell_type": "code",
   "execution_count": 58,
   "id": "980d1748-beab-4d00-a594-5566262e605e",
   "metadata": {},
   "outputs": [],
   "source": [
    "# 1. Hierarchical Inheritance\n",
    "class Shape:\n",
    "    \n",
    "    def area(self):\n",
    "        print(\"Area = \")\n",
    "    "
   ]
  },
  {
   "cell_type": "code",
   "execution_count": 55,
   "id": "c55958ba-2c0c-45a8-931a-37f23996a001",
   "metadata": {},
   "outputs": [],
   "source": [
    "class Triangle(Shape):\n",
    "    \n",
    "    def __init__(self, h, b):\n",
    "        self.area_t = (1/2) * h * b\n",
    "    \n",
    "    def area_triangle(self):\n",
    "        return self.area_t\n",
    "    "
   ]
  },
  {
   "cell_type": "code",
   "execution_count": 67,
   "id": "2f11ce47-40d2-4b9f-84a9-75d59b6fe754",
   "metadata": {},
   "outputs": [],
   "source": [
    "class Circle(Shape):\n",
    "    \n",
    "    def __init__(self, r):\n",
    "        self.area_c = 3.14 * (r**2)\n",
    "        \n",
    "    def area_circle(self):\n",
    "        return self.area_c"
   ]
  },
  {
   "cell_type": "code",
   "execution_count": 68,
   "id": "b626c832-0eb1-4499-9238-be0d41635507",
   "metadata": {},
   "outputs": [
    {
     "name": "stdout",
     "output_type": "stream",
     "text": [
      "Area = "
     ]
    },
    {
     "data": {
      "text/plain": [
       "100.0"
      ]
     },
     "execution_count": 68,
     "metadata": {},
     "output_type": "execute_result"
    }
   ],
   "source": [
    "T1 = Triangle(10,20)\n",
    "T1.area()\n",
    "T1.area_triangle()\n"
   ]
  },
  {
   "cell_type": "code",
   "execution_count": 70,
   "id": "29a7bbcb-24f1-408a-8f14-7ae0e2beb89d",
   "metadata": {},
   "outputs": [
    {
     "name": "stdout",
     "output_type": "stream",
     "text": [
      "Area = \n"
     ]
    },
    {
     "data": {
      "text/plain": [
       "314.0"
      ]
     },
     "execution_count": 70,
     "metadata": {},
     "output_type": "execute_result"
    }
   ],
   "source": [
    "C1 = Circle(10)\n",
    "C1.area()\n",
    "C1.area_circle()"
   ]
  },
  {
   "cell_type": "code",
   "execution_count": 72,
   "id": "7b6379ef-c638-4b94-9855-e2f72fa050f6",
   "metadata": {},
   "outputs": [],
   "source": [
    "# 2. Multiple Inheritance\n",
    "class Area:\n",
    "    def print_area(self):\n",
    "        print(\"Area = \")"
   ]
  },
  {
   "cell_type": "code",
   "execution_count": 73,
   "id": "c93a227a-0254-4ec0-8fe1-95a6d76419e0",
   "metadata": {},
   "outputs": [],
   "source": [
    "class Perimeter:\n",
    "    def print_perimeter(self):\n",
    "        print(\"Perimeter = \")"
   ]
  },
  {
   "cell_type": "code",
   "execution_count": 75,
   "id": "b53f834e-e354-47da-9520-21eb11c5e052",
   "metadata": {},
   "outputs": [],
   "source": [
    "class Rectangle(Area, Perimeter):\n",
    "    \n",
    "    def __init__(self, l, b):\n",
    "        self.p = 2 * (l+b)\n",
    "        self.a = l * b\n",
    "    \n",
    "    def area_r(self):\n",
    "        return self.a\n",
    "    \n",
    "    def per_r(self):\n",
    "        return self.p\n",
    "    "
   ]
  },
  {
   "cell_type": "code",
   "execution_count": 82,
   "id": "2d7e1874-ff42-462c-950b-2f691d680a1e",
   "metadata": {},
   "outputs": [],
   "source": [
    "class Circle(Area, Perimeter):\n",
    "    \n",
    "    def __init__(self,r):\n",
    "        self.p = 2 * 3.14 * r\n",
    "        self.a = 3.14 * (r**2)\n",
    "    \n",
    "    def area_c(self):\n",
    "        return self.a\n",
    "    \n",
    "    def per_c(self):\n",
    "        return self.p"
   ]
  },
  {
   "cell_type": "code",
   "execution_count": 79,
   "id": "6805b7a0-9e00-4a18-b9e0-d4ad197d6a12",
   "metadata": {},
   "outputs": [
    {
     "name": "stdout",
     "output_type": "stream",
     "text": [
      "Area = \n"
     ]
    },
    {
     "data": {
      "text/plain": [
       "200"
      ]
     },
     "execution_count": 79,
     "metadata": {},
     "output_type": "execute_result"
    }
   ],
   "source": [
    "R1 = Rectangle(10,20)\n",
    "R1.print_area()\n",
    "R1.area_r()\n",
    "# R1.print_perimeter()\n",
    "# R1.per_r()"
   ]
  },
  {
   "cell_type": "code",
   "execution_count": 80,
   "id": "98efa416-94d1-4010-b6f2-bbecf36267c8",
   "metadata": {},
   "outputs": [
    {
     "name": "stdout",
     "output_type": "stream",
     "text": [
      "Perimeter = \n"
     ]
    },
    {
     "data": {
      "text/plain": [
       "60"
      ]
     },
     "execution_count": 80,
     "metadata": {},
     "output_type": "execute_result"
    }
   ],
   "source": [
    "R1.print_perimeter()\n",
    "R1.per_r()"
   ]
  },
  {
   "cell_type": "code",
   "execution_count": 83,
   "id": "1e1baa27-c261-4343-bc6e-aa2557bc557c",
   "metadata": {},
   "outputs": [
    {
     "name": "stdout",
     "output_type": "stream",
     "text": [
      "Area = \n"
     ]
    },
    {
     "data": {
      "text/plain": [
       "314.0"
      ]
     },
     "execution_count": 83,
     "metadata": {},
     "output_type": "execute_result"
    }
   ],
   "source": [
    "C2 = Circle(10)\n",
    "C2.print_area()\n",
    "C2.area_c()"
   ]
  },
  {
   "cell_type": "code",
   "execution_count": 84,
   "id": "628a43fd-b57e-4360-a391-44dcab1c66c4",
   "metadata": {},
   "outputs": [
    {
     "name": "stdout",
     "output_type": "stream",
     "text": [
      "Perimeter = \n"
     ]
    },
    {
     "data": {
      "text/plain": [
       "62.800000000000004"
      ]
     },
     "execution_count": 84,
     "metadata": {},
     "output_type": "execute_result"
    }
   ],
   "source": [
    "C2.print_perimeter()\n",
    "C2.per_c()"
   ]
  },
  {
   "cell_type": "code",
   "execution_count": null,
   "id": "841d4537-a6c8-4ab0-88b6-6631af345397",
   "metadata": {},
   "outputs": [],
   "source": [
    "# 3. Single level Ingeritance\n",
    "class base:\n",
    "    def meth1(self):\n",
    "        print(\"This is base class\")\n",
    "        "
   ]
  },
  {
   "cell_type": "code",
   "execution_count": 94,
   "id": "cc0580d2-eecd-4250-8047-e5130e8ad704",
   "metadata": {},
   "outputs": [],
   "source": [
    "class child(base):\n",
    "    def meth2(self):\n",
    "        print(\"This is derived class\")"
   ]
  },
  {
   "cell_type": "code",
   "execution_count": 104,
   "id": "80524067-8a6e-40d0-85ca-27c33ff04b6f",
   "metadata": {},
   "outputs": [],
   "source": [
    "ch1 = child()"
   ]
  },
  {
   "cell_type": "code",
   "execution_count": 105,
   "id": "4b6d0f38-44c4-4bab-8336-70212ee6b6be",
   "metadata": {},
   "outputs": [
    {
     "name": "stdout",
     "output_type": "stream",
     "text": [
      "This is derived class\n"
     ]
    }
   ],
   "source": [
    "ch1.meth2()"
   ]
  },
  {
   "cell_type": "code",
   "execution_count": 107,
   "id": "ed28187b-9311-4df6-8a23-8f5668eb17f1",
   "metadata": {},
   "outputs": [
    {
     "name": "stdout",
     "output_type": "stream",
     "text": [
      "This is base class\n"
     ]
    }
   ],
   "source": [
    "ch1.meth1()"
   ]
  },
  {
   "cell_type": "code",
   "execution_count": 121,
   "id": "a902c724-cc91-435f-b7db-ccf5bf337713",
   "metadata": {},
   "outputs": [],
   "source": [
    "# 4. Multi level Inheritance\n",
    "class granparent:\n",
    "    def meth_g(self):\n",
    "        print(\"This is grandparent class.\")"
   ]
  },
  {
   "cell_type": "code",
   "execution_count": 122,
   "id": "0d003899-8dcf-430c-b6b7-51076a2b4ac7",
   "metadata": {},
   "outputs": [],
   "source": [
    "class parents(granparent):\n",
    "    def meth_p(self):\n",
    "        print(\"This is parent class.:\")"
   ]
  },
  {
   "cell_type": "code",
   "execution_count": 123,
   "id": "eea97b4c-53b5-4baf-8e00-0dc3c82d7329",
   "metadata": {},
   "outputs": [],
   "source": [
    "class child(parents):\n",
    "    def meth_c(self):\n",
    "        print(\"This is child class.\")"
   ]
  },
  {
   "cell_type": "code",
   "execution_count": 124,
   "id": "5267c773-c6f5-481f-a0b3-b99e826a7a45",
   "metadata": {},
   "outputs": [],
   "source": [
    "g1 = granparent()"
   ]
  },
  {
   "cell_type": "code",
   "execution_count": 125,
   "id": "ef2add36-321d-40c9-9beb-effa89782688",
   "metadata": {},
   "outputs": [
    {
     "name": "stdout",
     "output_type": "stream",
     "text": [
      "This is grandparent class.\n"
     ]
    }
   ],
   "source": [
    "g1.meth_g()"
   ]
  },
  {
   "cell_type": "code",
   "execution_count": 114,
   "id": "3700e623-dcef-4b99-b850-6f313c9709d4",
   "metadata": {},
   "outputs": [],
   "source": [
    "p1 = parents()"
   ]
  },
  {
   "cell_type": "code",
   "execution_count": 126,
   "id": "6cb68025-80e9-4296-bcd7-445218998789",
   "metadata": {},
   "outputs": [
    {
     "name": "stdout",
     "output_type": "stream",
     "text": [
      "This is grandparent's class.\n"
     ]
    }
   ],
   "source": [
    "p1.meth_g()"
   ]
  },
  {
   "cell_type": "code",
   "execution_count": 127,
   "id": "f7300d88-eae6-40b9-90fe-df5d0c250085",
   "metadata": {},
   "outputs": [
    {
     "name": "stdout",
     "output_type": "stream",
     "text": [
      "This is parents's class.:\n"
     ]
    }
   ],
   "source": [
    "p1.meth_p()"
   ]
  },
  {
   "cell_type": "code",
   "execution_count": 117,
   "id": "6b3ee5d7-b3cf-4fa7-ac0e-0de7b5bfea9f",
   "metadata": {},
   "outputs": [],
   "source": [
    "c1 = child()"
   ]
  },
  {
   "cell_type": "code",
   "execution_count": 128,
   "id": "f3b318f8-e52e-450b-813c-5957110f3e87",
   "metadata": {},
   "outputs": [
    {
     "name": "stdout",
     "output_type": "stream",
     "text": [
      "This is grandparent's class.\n"
     ]
    }
   ],
   "source": [
    "c1.meth_g()"
   ]
  },
  {
   "cell_type": "code",
   "execution_count": 129,
   "id": "2623bcfd-3fc4-4b2a-9ef2-9e8e47d1c43f",
   "metadata": {},
   "outputs": [
    {
     "name": "stdout",
     "output_type": "stream",
     "text": [
      "This is parents's class.:\n"
     ]
    }
   ],
   "source": [
    "c1.meth_p()"
   ]
  },
  {
   "cell_type": "code",
   "execution_count": 130,
   "id": "8e17f0d2-3a89-4861-972a-53ba1c9f9dda",
   "metadata": {},
   "outputs": [
    {
     "name": "stdout",
     "output_type": "stream",
     "text": [
      "This is child class.\n"
     ]
    }
   ],
   "source": [
    "c1.meth_c()"
   ]
  },
  {
   "cell_type": "code",
   "execution_count": null,
   "id": "9fc89f9e-8f69-424d-bf23-0106257e1426",
   "metadata": {},
   "outputs": [],
   "source": []
  }
 ],
 "metadata": {
  "kernelspec": {
   "display_name": "Python 3 (ipykernel)",
   "language": "python",
   "name": "python3"
  },
  "language_info": {
   "codemirror_mode": {
    "name": "ipython",
    "version": 3
   },
   "file_extension": ".py",
   "mimetype": "text/x-python",
   "name": "python",
   "nbconvert_exporter": "python",
   "pygments_lexer": "ipython3",
   "version": "3.10.8"
  }
 },
 "nbformat": 4,
 "nbformat_minor": 5
}
